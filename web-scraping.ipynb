{
 "cells": [
  {
   "cell_type": "markdown",
   "metadata": {},
   "source": [
    "# Web Mining and Applied NLP (44-620)\n",
    "\n",
    "## Web Scraping and NLP with Requests, BeautifulSoup, and spaCy\n",
    "\n",
    "### Student Name:  Nicole Hansen\n",
    "GitHub repo:  https://github.com/nhansen23/mod6-web-scraping\n",
    "\n",
    "Perform the tasks described in the Markdown cells below.  When you have completed the assignment make sure your code cells have all been run (and have output beneath them) and ensure you have committed and pushed ALL of your changes to your assignment repository.\n",
    "\n",
    "Every question that requires you to write code will have a code cell underneath it; you may either write your entire solution in that cell or write it in a python file (`.py`), then import and run the appropriate code to answer the question."
   ]
  },
  {
   "cell_type": "code",
   "execution_count": 3,
   "metadata": {},
   "outputs": [
    {
     "name": "stdout",
     "output_type": "stream",
     "text": [
      "Collecting spacy\n",
      "  Using cached spacy-3.8.2.tar.gz (1.3 MB)\n",
      "  Installing build dependencies: started\n",
      "  Installing build dependencies: finished with status 'error'\n",
      "Note: you may need to restart the kernel to use updated packages.\n"
     ]
    },
    {
     "name": "stderr",
     "output_type": "stream",
     "text": [
      "  error: subprocess-exited-with-error\n",
      "  \n",
      "  × pip subprocess to install build dependencies did not run successfully.\n",
      "  │ exit code: 1\n",
      "  ╰─> [113 lines of output]\n",
      "      Ignoring numpy: markers 'python_version < \"3.9\"' don't match your environment\n",
      "      Collecting setuptools\n",
      "        Using cached setuptools-75.5.0-py3-none-any.whl.metadata (6.8 kB)\n",
      "      Collecting cython<3.0,>=0.25\n",
      "        Using cached Cython-0.29.37-py2.py3-none-any.whl.metadata (3.1 kB)\n",
      "      Collecting cymem<2.1.0,>=2.0.2\n",
      "        Using cached cymem-2.0.8.tar.gz (9.8 kB)\n",
      "        Installing build dependencies: started\n",
      "        Installing build dependencies: finished with status 'done'\n",
      "        Getting requirements to build wheel: started\n",
      "        Getting requirements to build wheel: finished with status 'done'\n",
      "        Preparing metadata (pyproject.toml): started\n",
      "        Preparing metadata (pyproject.toml): finished with status 'done'\n",
      "      Collecting preshed<3.1.0,>=3.0.2\n",
      "        Using cached preshed-3.0.9.tar.gz (14 kB)\n",
      "        Installing build dependencies: started\n",
      "        Installing build dependencies: finished with status 'error'\n",
      "        error: subprocess-exited-with-error\n",
      "      \n",
      "        Ã— pip subprocess to install build dependencies did not run successfully.\n",
      "        â”‚ exit code: 1\n",
      "        â•°â”€> [81 lines of output]\n",
      "            Collecting setuptools\n",
      "              Using cached setuptools-75.5.0-py3-none-any.whl.metadata (6.8 kB)\n",
      "            Collecting cython>=0.28\n",
      "              Using cached Cython-3.0.11-cp313-cp313-win_amd64.whl.metadata (3.2 kB)\n",
      "            Collecting cymem<2.1.0,>=2.0.2\n",
      "              Using cached cymem-2.0.8.tar.gz (9.8 kB)\n",
      "              Installing build dependencies: started\n",
      "              Installing build dependencies: finished with status 'done'\n",
      "              Getting requirements to build wheel: started\n",
      "              Getting requirements to build wheel: finished with status 'done'\n",
      "              Preparing metadata (pyproject.toml): started\n",
      "              Preparing metadata (pyproject.toml): finished with status 'done'\n",
      "            Collecting murmurhash<1.1.0,>=0.28.0\n",
      "              Using cached murmurhash-1.0.10.tar.gz (12 kB)\n",
      "              Installing build dependencies: started\n",
      "              Installing build dependencies: finished with status 'done'\n",
      "              Getting requirements to build wheel: started\n",
      "              Getting requirements to build wheel: finished with status 'done'\n",
      "              Preparing metadata (pyproject.toml): started\n",
      "              Preparing metadata (pyproject.toml): finished with status 'done'\n",
      "            Using cached setuptools-75.5.0-py3-none-any.whl (1.2 MB)\n",
      "            Using cached Cython-3.0.11-cp313-cp313-win_amd64.whl (2.8 MB)\n",
      "            Building wheels for collected packages: cymem, murmurhash\n",
      "              Building wheel for cymem (pyproject.toml): started\n",
      "              Building wheel for cymem (pyproject.toml): finished with status 'error'\n",
      "              error: subprocess-exited-with-error\n",
      "      \n",
      "              Ãƒâ€” Building wheel for cymem (pyproject.toml) did not run successfully.\n",
      "              Ã¢â€\\x9dâ€š exit code: 1\n",
      "              Ã¢â€¢Â°Ã¢â€\\x9dâ‚¬> [15 lines of output]\n",
      "                  running bdist_wheel\n",
      "                  running build\n",
      "                  running build_py\n",
      "                  creating build\\lib.win-amd64-cpython-313\\cymem\n",
      "                  copying cymem\\about.py -> build\\lib.win-amd64-cpython-313\\cymem\n",
      "                  copying cymem\\__init__.py -> build\\lib.win-amd64-cpython-313\\cymem\n",
      "                  creating build\\lib.win-amd64-cpython-313\\cymem\\tests\n",
      "                  copying cymem\\tests\\test_import.py -> build\\lib.win-amd64-cpython-313\\cymem\\tests\n",
      "                  copying cymem\\tests\\__init__.py -> build\\lib.win-amd64-cpython-313\\cymem\\tests\n",
      "                  copying cymem\\cymem.pyx -> build\\lib.win-amd64-cpython-313\\cymem\n",
      "                  copying cymem\\cymem.pxd -> build\\lib.win-amd64-cpython-313\\cymem\n",
      "                  copying cymem\\__init__.pxd -> build\\lib.win-amd64-cpython-313\\cymem\n",
      "                  running build_ext\n",
      "                  building 'cymem.cymem' extension\n",
      "                  error: Microsoft Visual C++ 14.0 or greater is required. Get it with \"Microsoft C++ Build Tools\": https://visualstudio.microsoft.com/visual-cpp-build-tools/\n",
      "                  [end of output]\n",
      "      \n",
      "              note: This error originates from a subprocess, and is likely not a problem with pip.\n",
      "              ERROR: Failed building wheel for cymem\n",
      "              Building wheel for murmurhash (pyproject.toml): started\n",
      "              Building wheel for murmurhash (pyproject.toml): finished with status 'error'\n",
      "              error: subprocess-exited-with-error\n",
      "      \n",
      "              Ãƒâ€” Building wheel for murmurhash (pyproject.toml) did not run successfully.\n",
      "              Ã¢â€\\x9dâ€š exit code: 1\n",
      "              Ã¢â€¢Â°Ã¢â€\\x9dâ‚¬> [19 lines of output]\n",
      "                  running bdist_wheel\n",
      "                  running build\n",
      "                  running build_py\n",
      "                  creating build\\lib.win-amd64-cpython-313\\murmurhash\n",
      "                  copying murmurhash\\about.py -> build\\lib.win-amd64-cpython-313\\murmurhash\n",
      "                  copying murmurhash\\__init__.py -> build\\lib.win-amd64-cpython-313\\murmurhash\n",
      "                  creating build\\lib.win-amd64-cpython-313\\murmurhash\\tests\n",
      "                  copying murmurhash\\tests\\test_hash.py -> build\\lib.win-amd64-cpython-313\\murmurhash\\tests\n",
      "                  copying murmurhash\\tests\\test_import.py -> build\\lib.win-amd64-cpython-313\\murmurhash\\tests\n",
      "                  copying murmurhash\\tests\\__init__.py -> build\\lib.win-amd64-cpython-313\\murmurhash\\tests\n",
      "                  copying murmurhash\\mrmr.pyx -> build\\lib.win-amd64-cpython-313\\murmurhash\n",
      "                  copying murmurhash\\mrmr.pxd -> build\\lib.win-amd64-cpython-313\\murmurhash\n",
      "                  copying murmurhash\\__init__.pxd -> build\\lib.win-amd64-cpython-313\\murmurhash\n",
      "                  creating build\\lib.win-amd64-cpython-313\\murmurhash\\include\\murmurhash\n",
      "                  copying murmurhash\\include\\murmurhash\\MurmurHash2.h -> build\\lib.win-amd64-cpython-313\\murmurhash\\include\\murmurhash\n",
      "                  copying murmurhash\\include\\murmurhash\\MurmurHash3.h -> build\\lib.win-amd64-cpython-313\\murmurhash\\include\\murmurhash\n",
      "                  running build_ext\n",
      "                  building 'murmurhash.mrmr' extension\n",
      "                  error: Microsoft Visual C++ 14.0 or greater is required. Get it with \"Microsoft C++ Build Tools\": https://visualstudio.microsoft.com/visual-cpp-build-tools/\n",
      "                  [end of output]\n",
      "      \n",
      "              note: This error originates from a subprocess, and is likely not a problem with pip.\n",
      "              ERROR: Failed building wheel for murmurhash\n",
      "            Failed to build cymem murmurhash\n",
      "            ERROR: ERROR: Failed to build installable wheels for some pyproject.toml based projects (cymem, murmurhash)\n",
      "            [end of output]\n",
      "      \n",
      "        note: This error originates from a subprocess, and is likely not a problem with pip.\n",
      "      error: subprocess-exited-with-error\n",
      "      \n",
      "      Ã— pip subprocess to install build dependencies did not run successfully.\n",
      "      â”‚ exit code: 1\n",
      "      â•°â”€> See above for output.\n",
      "      \n",
      "      note: This error originates from a subprocess, and is likely not a problem with pip.\n",
      "      [end of output]\n",
      "  \n",
      "  note: This error originates from a subprocess, and is likely not a problem with pip.\n",
      "error: subprocess-exited-with-error\n",
      "\n",
      "× pip subprocess to install build dependencies did not run successfully.\n",
      "│ exit code: 1\n",
      "╰─> See above for output.\n",
      "\n",
      "note: This error originates from a subprocess, and is likely not a problem with pip.\n"
     ]
    }
   ],
   "source": [
    "%pip install spacy"
   ]
  },
  {
   "cell_type": "markdown",
   "metadata": {},
   "source": [
    "Question 1"
   ]
  },
  {
   "cell_type": "markdown",
   "metadata": {},
   "source": [
    "1. Write code that extracts the article html from https://web.archive.org/web/20210327165005/https://hackaday.com/2021/03/22/how-laser-headlights-work/ and dumps it to a .pkl (or other appropriate file)"
   ]
  },
  {
   "cell_type": "code",
   "execution_count": 6,
   "metadata": {},
   "outputs": [
    {
     "ename": "ModuleNotFoundError",
     "evalue": "No module named 'requests'",
     "output_type": "error",
     "traceback": [
      "\u001b[1;31m---------------------------------------------------------------------------\u001b[0m",
      "\u001b[1;31mModuleNotFoundError\u001b[0m                       Traceback (most recent call last)",
      "Cell \u001b[1;32mIn[6], line 1\u001b[0m\n\u001b[1;32m----> 1\u001b[0m \u001b[38;5;28;01mimport\u001b[39;00m \u001b[38;5;21;01mrequests\u001b[39;00m\n\u001b[0;32m      2\u001b[0m \u001b[38;5;28;01mfrom\u001b[39;00m \u001b[38;5;21;01mbs4\u001b[39;00m \u001b[38;5;28;01mimport\u001b[39;00m BeautifulSoup\n\u001b[0;32m      4\u001b[0m \u001b[38;5;66;03m#url of website\u001b[39;00m\n",
      "\u001b[1;31mModuleNotFoundError\u001b[0m: No module named 'requests'"
     ]
    }
   ],
   "source": [
    "import requests\n",
    "from bs4 import BeautifulSoup\n",
    "\n",
    "#url of website\n",
    "url=\"https://web.archive.org/web/20210327165005/https://hackaday.com/2021/03/22/how-laser-headlights-work/\"\n",
    "\n",
    "#Fetch the page\n",
    "response = requests.get(url)\n",
    "\n",
    "#Check if the response was successful\n",
    "if response.status_code==200:\n",
    "    web_content = response.content\n",
    "    #Parse the content\n",
    "    soup = BeautifulSoup(web_content, 'html.parser')\n",
    "    for article in artiles:\n",
    "        print(article.txt)\n",
    "else:\n",
    "    print(\"Failed to retrieve the article.\")\n",
    "\n"
   ]
  },
  {
   "cell_type": "markdown",
   "metadata": {},
   "source": [
    "2. Read in your article's html source from the file you created in question 1 and print it's text (use `.get_text()`)"
   ]
  },
  {
   "cell_type": "code",
   "execution_count": null,
   "metadata": {},
   "outputs": [],
   "source": []
  },
  {
   "cell_type": "markdown",
   "metadata": {},
   "source": [
    "3. Load the article text into a trained `spaCy` pipeline, and determine the 5 most frequent tokens (converted to lower case).  Print the common tokens with an appropriate label.  Additionally, print the tokens their frequencies (with appropriate labels). Make sure to remove things we don't care about (punctuation, stopwords, whitespace)."
   ]
  },
  {
   "cell_type": "code",
   "execution_count": null,
   "metadata": {},
   "outputs": [],
   "source": []
  },
  {
   "cell_type": "markdown",
   "metadata": {},
   "source": [
    "4. Load the article text into a trained `spaCy` pipeline, and determine the 5 most frequent lemmas (converted to lower case).  Print the common lemmas with an appropriate label.  Additionally, print the lemmas with their frequencies (with appropriate labels). Make sure to remove things we don't care about (punctuation, stopwords, whitespace)."
   ]
  },
  {
   "cell_type": "code",
   "execution_count": null,
   "metadata": {},
   "outputs": [],
   "source": []
  },
  {
   "cell_type": "markdown",
   "metadata": {},
   "source": [
    "5. Define the following methods:\n",
    "    * `score_sentence_by_token(sentence, interesting_token)` that takes a sentence and a list of interesting token and returns the number of times that any of the interesting words appear in the sentence divided by the number of words in the sentence\n",
    "    * `score_sentence_by_lemma(sentence, interesting_lemmas)` that takes a sentence and a list of interesting lemmas and returns the number of times that any of the interesting lemmas appear in the sentence divided by the number of words in the sentence\n",
    "    \n",
    "You may find some of the code from the in class notes useful; feel free to use methods (rewrite them in this cell as well).  Test them by showing the score of the first sentence in your article using the frequent tokens and frequent lemmas identified in question 3."
   ]
  },
  {
   "cell_type": "code",
   "execution_count": null,
   "metadata": {},
   "outputs": [],
   "source": []
  },
  {
   "cell_type": "markdown",
   "metadata": {},
   "source": [
    "6. Make a list containing the scores (using tokens) of every sentence in the article, and plot a histogram with appropriate titles and axis labels of the scores. From your histogram, what seems to be the most common range of scores (put the answer in a comment after your code)?"
   ]
  },
  {
   "cell_type": "code",
   "execution_count": null,
   "metadata": {},
   "outputs": [],
   "source": []
  },
  {
   "cell_type": "markdown",
   "metadata": {},
   "source": [
    "7. Make a list containing the scores (using lemmas) of every sentence in the article, and plot a histogram with appropriate titles and axis labels of the scores.  From your histogram, what seems to be the most common range of scores (put the answer in a comment after your code)?"
   ]
  },
  {
   "cell_type": "code",
   "execution_count": null,
   "metadata": {},
   "outputs": [],
   "source": []
  },
  {
   "cell_type": "markdown",
   "metadata": {},
   "source": [
    "8. Which tokens and lexems would be ommitted from the lists generated in questions 3 and 4 if we only wanted to consider nouns as interesting words?  How might we change the code to only consider nouns? Put your answer in this Markdown cell (you can edit it by double clicking it)."
   ]
  }
 ],
 "metadata": {
  "kernelspec": {
   "display_name": "Python 3",
   "language": "python",
   "name": "python3"
  },
  "language_info": {
   "codemirror_mode": {
    "name": "ipython",
    "version": 3
   },
   "file_extension": ".py",
   "mimetype": "text/x-python",
   "name": "python",
   "nbconvert_exporter": "python",
   "pygments_lexer": "ipython3",
   "version": "3.13.0"
  }
 },
 "nbformat": 4,
 "nbformat_minor": 4
}
